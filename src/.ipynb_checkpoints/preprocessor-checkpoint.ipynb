{
 "cells": [
  {
   "cell_type": "code",
   "execution_count": 5,
   "metadata": {},
   "outputs": [],
   "source": [
    "import json\n",
    "from konlpy.tag import Kkma"
   ]
  },
  {
   "cell_type": "code",
   "execution_count": 48,
   "metadata": {},
   "outputs": [],
   "source": [
    "kkma = Kkma()\n",
    "def lemmatization(word, pos):\n",
    "    result = []\n",
    "    morps = kkma.pos(word)\n",
    "    if pos == 'n':\n",
    "        for m,p in morps:\n",
    "            if p.startswith('N'):\n",
    "                result.append(m+'/'+p)\n",
    "    elif pos == 'v':\n",
    "        for i in range(len(morps)):\n",
    "            m,p = morps[i]\n",
    "            if p == 'VV':\n",
    "                result.append(m)\n",
    "            elif i>0 and p == 'XSV':\n",
    "                r = morps[i-1][0]+m\n",
    "                if r[0] == word[0]:\n",
    "                    result.append(r)\n",
    "#                 result.append(morps[i-1][0]+'/'+morps[i-1][1])\n",
    "    elif pos == 'a':\n",
    "        for i in range(len(morps)):\n",
    "            m,p = morps[i]\n",
    "            if p == 'VA':\n",
    "                result.append(m)\n",
    "            elif i>0 and p == 'XSV':\n",
    "                r = morps[i-1][0]+m\n",
    "                if r[0] == word[0]:\n",
    "                    result.append(r)\n",
    "#                 result.append(morps[i-1][0]+'/'+morps[i-1][1])\n",
    "    return result"
   ]
  },
  {
   "cell_type": "code",
   "execution_count": 49,
   "metadata": {},
   "outputs": [],
   "source": [
    "def gen_target_index():\n",
    "    with open('../koreanframenet/resource/1.0/KFN_lus.json','r') as f:\n",
    "        lus = json.load(f)\n",
    "        \n",
    "    ludic = {}\n",
    "    for idx in lus:\n",
    "        d = lus[idx]\n",
    "        lu = d['lexeme']+'.'+d['pos']\n",
    "        if '-' not in lu or '_' not in lu:\n",
    "            pos = d['pos']\n",
    "            if lu not in ludic:\n",
    "                targets = []\n",
    "            else:\n",
    "                targets = ludic[lu]\n",
    "\n",
    "            if d['pos'] == 'n':\n",
    "                targets.append(d['lexeme'])\n",
    "            else:\n",
    "                if d['pos'] == 'v':\n",
    "                    for s in d['surface_forms']:\n",
    "                        lemmas = lemmatization(s, pos)\n",
    "                        targets += lemmas\n",
    "                elif d['pos'] == 'a':\n",
    "                    for s in d['surface_forms']:\n",
    "                        lemmas = lemmatization(s, pos)\n",
    "                        targets += lemmas\n",
    "            targets = list(set(targets))\n",
    "            ludic[lu] = targets\n",
    "    with open('../data/targetdic.json','w') as f:\n",
    "        json.dump(ludic, f, ensure_ascii=False, indent=4)\n",
    "        \n",
    "gen_target_index()"
   ]
  }
 ],
 "metadata": {
  "kernelspec": {
   "display_name": "Python 3",
   "language": "python",
   "name": "python3"
  },
  "language_info": {
   "codemirror_mode": {
    "name": "ipython",
    "version": 3
   },
   "file_extension": ".py",
   "mimetype": "text/x-python",
   "name": "python",
   "nbconvert_exporter": "python",
   "pygments_lexer": "ipython3",
   "version": "3.6.5"
  }
 },
 "nbformat": 4,
 "nbformat_minor": 2
}
