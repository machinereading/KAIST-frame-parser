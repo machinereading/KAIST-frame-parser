{
 "cells": [
  {
   "cell_type": "code",
   "execution_count": 1,
   "metadata": {},
   "outputs": [],
   "source": [
    "import json"
   ]
  },
  {
   "cell_type": "code",
   "execution_count": 4,
   "metadata": {},
   "outputs": [],
   "source": [
    "config = {}\n",
    "config['parser'] = 'srl-based'\n",
    "\n",
    "nlp = {}\n",
    "nlp['serviceType'] = 'SOCKET'\n",
    "nlp['url'] = '143.248.135.60'\n",
    "nlp['port'] = 33222\n",
    "config['nlp'] = nlp\n",
    "config['framenet'] = 'kfn1.1'\n",
    "config['model_dir'] = '/disk_4/resource'\n",
    "\n",
    "with open('./config.json','w') as f:\n",
    "    json.dump(config, f, ensure_ascii=False, indent=4)"
   ]
  }
 ],
 "metadata": {
  "kernelspec": {
   "display_name": "Python 3",
   "language": "python",
   "name": "python3"
  },
  "language_info": {
   "codemirror_mode": {
    "name": "ipython",
    "version": 3
   },
   "file_extension": ".py",
   "mimetype": "text/x-python",
   "name": "python",
   "nbconvert_exporter": "python",
   "pygments_lexer": "ipython3",
   "version": "3.6.5"
  }
 },
 "nbformat": 4,
 "nbformat_minor": 2
}
