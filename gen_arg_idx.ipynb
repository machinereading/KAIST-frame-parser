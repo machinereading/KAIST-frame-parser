{
 "cells": [
  {
   "cell_type": "code",
   "execution_count": 5,
   "metadata": {},
   "outputs": [],
   "source": [
    "# this would be root folder\n",
    "import json\n",
    "from koreanframenet import koreanframenet\n",
    "version = 1.0\n",
    "kfn = koreanframenet.interface(version=version)\n",
    "en_fn = False"
   ]
  },
  {
   "cell_type": "code",
   "execution_count": 6,
   "metadata": {},
   "outputs": [
    {
     "name": "stdout",
     "output_type": "stream",
     "text": [
      "\n",
      "### loading Korean FrameNet 1.0 data...\n",
      "\t# of instances in training data: 12431\n",
      "\t# of instances in dev data: 624\n",
      "\t# of instances in test data: 4382\n",
      "[['태풍', 'Hugo가', '남긴', '피해들과', '회사', '내', '몇몇', '주요', '부서들의', '저조한', '실적들을', '반영하여,', 'Aetna', 'Life', 'and', 'Casualty', 'Co.의', '3분기', '순이익이', '182.6', '백만', '달러', '또는', '주당', '1.63', '달러로', '22', '%', '하락하였다.'], ['_', '_', '_', '_', '_', '_', '_', '_', '_', '_', '_', '_', '_', '_', '_', '_', '_', '_', '이익.n', '_', '_', '_', '_', '_', '_', '_', '_', '_', '_'], ['_', '_', '_', '_', '_', '_', '_', '_', '_', '_', '_', '_', '_', '_', '_', '_', '_', '_', 'Earnings_and_losses', '_', '_', '_', '_', '_', '_', '_', '_', '_', '_'], ['O', 'O', 'O', 'O', 'O', 'O', 'O', 'O', 'O', 'O', 'O', 'O', 'B-Earner', 'I-Earner', 'I-Earner', 'I-Earner', 'I-Earner', 'B-Time', 'O', 'O', 'O', 'O', 'O', 'O', 'O', 'O', 'O', 'O', 'O']]\n",
      "17437\n"
     ]
    }
   ],
   "source": [
    "trn, dev, tst = kfn.load_data()\n",
    "kfn_data = trn + dev + tst\n",
    "print(kfn_data[0])\n",
    "print(len(kfn_data))"
   ]
  },
  {
   "cell_type": "code",
   "execution_count": 12,
   "metadata": {},
   "outputs": [
    {
     "name": "stdout",
     "output_type": "stream",
     "text": [
      "[['Paula_Zahn', ':', 'Questions', 'about', 'the', 'facts', 'or', 'what', 'were', 'presented', 'as', 'facts', 'that', 'led', 'the', 'United', 'States', 'into', 'the', 'war', 'in', 'Iraq', 'spilled', 'into', 'open', 'warfare', 'today', 'on', 'the', 'Senate', 'floor', '.'], ['_', '_', '_', '_', '_', '_', '_', '_', '_', '_', '_', '_', '_', '_', '_', '_', '_', '_', '_', '_', '_', '_', 'spill.v', '_', '_', '_', '_', '_', '_', '_', '_', '_'], ['_', '_', '_', '_', '_', '_', '_', '_', '_', '_', '_', '_', '_', '_', '_', '_', '_', '_', '_', '_', '_', '_', 'Fluidic_motion', '_', '_', '_', '_', '_', '_', '_', '_', '_'], ['O', 'O', 'B-Fluid', 'I-Fluid', 'I-Fluid', 'I-Fluid', 'I-Fluid', 'I-Fluid', 'I-Fluid', 'I-Fluid', 'I-Fluid', 'I-Fluid', 'I-Fluid', 'I-Fluid', 'I-Fluid', 'I-Fluid', 'I-Fluid', 'I-Fluid', 'I-Fluid', 'I-Fluid', 'I-Fluid', 'I-Fluid', 'O', 'B-Goal', 'I-Goal', 'I-Goal', 'B-Time', 'B-Place', 'I-Place', 'I-Place', 'I-Place', 'O']]\n",
      "28377\n"
     ]
    }
   ],
   "source": [
    "# for english\n",
    "\n",
    "from src import dataio\n",
    "\n",
    "en_fn = 'fn1.7'\n",
    "fn_dir = '/disk_4/resource/'+en_fn\n",
    "trn, dev, tst = dataio.load_fn_data(fn_dir)\n",
    "\n",
    "kfn_data = trn + dev + tst\n",
    "print(kfn_data[0])\n",
    "print(len(kfn_data))"
   ]
  },
  {
   "cell_type": "code",
   "execution_count": 13,
   "metadata": {},
   "outputs": [
    {
     "name": "stdout",
     "output_type": "stream",
     "text": [
      "# of FEs 821\n",
      "./koreanframenet/resource/info/fn1.7_fe2idx.json is written\n"
     ]
    }
   ],
   "source": [
    "def gen_arg2idx():\n",
    "    fes = []\n",
    "    for i in kfn_data:\n",
    "        tokens, lus, frames, args = i[0], i[1], i[2], i[3]\n",
    "\n",
    "        for idx in range(len(args)):\n",
    "            arg_tag = args[idx]\n",
    "            arg_tokens = []\n",
    "            if arg_tag.startswith('B'):\n",
    "                fe_tag = arg_tag.split('-')[1]\n",
    "                fes.append(fe_tag)\n",
    "    fes = list(set(fes))\n",
    "    fes.sort()\n",
    "    \n",
    "    fe2idx = {}\n",
    "    for fe in fes:\n",
    "        if fe not in fe2idx:\n",
    "            fe2idx[fe] = len(fe2idx)\n",
    "    if en_fn:\n",
    "        fname = './koreanframenet/resource/info/'+en_fn+'_fe2idx.json'\n",
    "    else:\n",
    "        fname = './koreanframenet/resource/info/kfn'+str(version)+'_fe2idx.json'\n",
    "    with open(fname, 'w') as f:\n",
    "        json.dump(fe2idx, f, ensure_ascii=False, indent=4)\n",
    "    print('# of FEs', len(fe2idx))\n",
    "    print(fname, 'is written')\n",
    "gen_arg2idx()        "
   ]
  },
  {
   "cell_type": "code",
   "execution_count": 14,
   "metadata": {},
   "outputs": [
    {
     "name": "stdout",
     "output_type": "stream",
     "text": [
      "1221\n",
      "796\n",
      "./koreanframenet/resource/info/fn1.7_frargmap.json is written\n"
     ]
    }
   ],
   "source": [
    "def gen_frargmap():\n",
    "    if en_fn:\n",
    "        fname = './koreanframenet/resource/info/'+en_fn+'_frame2idx.json'\n",
    "    else:\n",
    "        fname = './koreanframenet/resource/info/fn1.7_frame2idx.json'\n",
    "    with open(fname,'r') as f:\n",
    "        frame2idx = json.load(f)\n",
    "    if en_fn:\n",
    "        fname = './koreanframenet/resource/info/'+en_fn+'_fe2idx.json'\n",
    "    else:\n",
    "        fname = './koreanframenet/resource/info/kfn'+str(version)+'_fe2idx.json'\n",
    "    with open(fname, 'r') as f:\n",
    "        fe2idx = json.load(f)\n",
    "        \n",
    "    frargmap = {}\n",
    "    for i in kfn_data:\n",
    "        tokens, lus, frames, args = i[0], i[1], i[2], i[3]\n",
    "        fes = []\n",
    "        for f in frames:\n",
    "            if f != '_':\n",
    "                frame = f\n",
    "        frame_idx = str(frame2idx[frame])\n",
    "        for idx in range(len(args)):\n",
    "            arg_tag = args[idx]\n",
    "            arg_tokens = []\n",
    "            if arg_tag.startswith('B'):\n",
    "                fe_tag = arg_tag.split('-')[1]\n",
    "                fe = fe2idx[fe_tag]\n",
    "                fes.append(fe)\n",
    "        fes = list(set(fes))\n",
    "        fes.sort()\n",
    "        if frame_idx not in frargmap:\n",
    "            frargmap[frame_idx] = fes\n",
    "        else:\n",
    "            old_fes = frargmap[frame_idx]\n",
    "            new_fes = old_fes + fes\n",
    "            new_fes = list(set(fes))\n",
    "            new_fes.sort()\n",
    "            frargmap[frame_idx] = new_fes\n",
    "            \n",
    "    if en_fn:\n",
    "        fname = './koreanframenet/resource/info/'+en_fn+'_frargmap.json'\n",
    "    else:\n",
    "        fname = './koreanframenet/resource/info/kfn'+str(version)+'_frargmap.json'\n",
    "    \n",
    "    print(len(frame2idx))\n",
    "    print(len(frargmap))\n",
    "    with open(fname, 'w') as f:\n",
    "        json.dump(fname, f, ensure_ascii=False, indent=4)\n",
    "    print(fname, 'is written')\n",
    "gen_frargmap()"
   ]
  }
 ],
 "metadata": {
  "kernelspec": {
   "display_name": "Python 3",
   "language": "python",
   "name": "python3"
  },
  "language_info": {
   "codemirror_mode": {
    "name": "ipython",
    "version": 3
   },
   "file_extension": ".py",
   "mimetype": "text/x-python",
   "name": "python",
   "nbconvert_exporter": "python",
   "pygments_lexer": "ipython3",
   "version": "3.6.5"
  }
 },
 "nbformat": 4,
 "nbformat_minor": 2
}
