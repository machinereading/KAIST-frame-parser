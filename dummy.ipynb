{
 "cells": [
  {
   "cell_type": "code",
   "execution_count": 4,
   "metadata": {},
   "outputs": [],
   "source": [
    "from src import etri\n",
    "from pprint import pprint"
   ]
  },
  {
   "cell_type": "code",
   "execution_count": 8,
   "metadata": {},
   "outputs": [
    {
     "name": "stdout",
     "output_type": "stream",
     "text": [
      "[{'arguments': [{'dp_label': 'NP_OBJ',\n",
      "                 'josa': {'josa': '를', 'josa+pos': '를/JKO', 'pos': 'JKO'},\n",
      "                 'span': {'begin': 0, 'end': 2},\n",
      "                 'text': '<e1>포르투칼</e1>의 총리를',\n",
      "                 'tokens': [0, 1]},\n",
      "                {'dp_label': 'NP_SBJ',\n",
      "                 'josa': {'josa': '는', 'josa+pos': '는/JX', 'pos': 'JX'},\n",
      "                 'span': {'begin': 3, 'end': 4},\n",
      "                 'text': '<e2>안토니우_구테흐스</e2>는,',\n",
      "                 'tokens': [3]}],\n",
      "  'predicate': {'id': 2, 'text': '지내.v'}},\n",
      " {'arguments': [{'dp_label': 'NP_SBJ',\n",
      "                 'josa': {'josa': '는', 'josa+pos': '는/JX', 'pos': 'JX'},\n",
      "                 'span': {'begin': 0, 'end': 4},\n",
      "                 'text': '<e1>포르투칼</e1>의 총리를 지낸 <e2>안토니우_구테흐스</e2>는,',\n",
      "                 'tokens': [0, 1, 2, 3]},\n",
      "                {'dp_label': 'NP_AJT',\n",
      "                 'josa': {'josa': '에', 'josa+pos': '에/JKB', 'pos': 'JKB'},\n",
      "                 'span': {'begin': 4, 'end': 7},\n",
      "                 'text': '2016년 10월 13일에',\n",
      "                 'tokens': [4, 5, 6]},\n",
      "                {'dp_label': 'NP_AJT',\n",
      "                 'josa': {'josa': '으로', 'josa+pos': '으로/JKB', 'pos': 'JKB'},\n",
      "                 'span': {'begin': 7, 'end': 9},\n",
      "                 'text': '유엔 사무총장으로',\n",
      "                 'tokens': [7, 8]}],\n",
      "  'predicate': {'id': 9, 'text': '선출되.v'}}]\n"
     ]
    }
   ],
   "source": [
    "text = '<e1>포르투칼</e1>의 총리를 지낸 <e2>안토니우_구테흐스</e2>는, 2016년 10월 13일에 유엔 사무총장으로 선출되었다.'\n",
    "nlp = etri.getETRI(text)\n",
    "conll_2009 = etri.getETRI_CoNLL2009(nlp)\n",
    "predicate_argument = etri.phrase_parser(conll_2009, nlp)\n",
    "pprint(predicate_argument)"
   ]
  },
  {
   "cell_type": "code",
   "execution_count": 9,
   "metadata": {},
   "outputs": [
    {
     "name": "stdout",
     "output_type": "stream",
     "text": [
      "[{'arguments': [{'dp_label': 'NP_OBJ',\n",
      "                 'josa': {'josa': '를', 'josa+pos': '를/JKO', 'pos': 'JKO'},\n",
      "                 'span': {'begin': 0, 'end': 2},\n",
      "                 'text': '포르투칼의 총리를',\n",
      "                 'tokens': [0, 1]},\n",
      "                {'dp_label': 'NP_SBJ',\n",
      "                 'josa': {'josa': '는', 'josa+pos': '는/JX', 'pos': 'JX'},\n",
      "                 'span': {'begin': 3, 'end': 4},\n",
      "                 'text': '<e1>안토니우_구테흐스</e1>는,',\n",
      "                 'tokens': [3]}],\n",
      "  'predicate': {'id': 2, 'text': '지내.v'}},\n",
      " {'arguments': [{'dp_label': 'NP_SBJ',\n",
      "                 'josa': {'josa': '는', 'josa+pos': '는/JX', 'pos': 'JX'},\n",
      "                 'span': {'begin': 0, 'end': 4},\n",
      "                 'text': '포르투칼의 총리를 지낸 <e1>안토니우_구테흐스</e1>는,',\n",
      "                 'tokens': [0, 1, 2, 3]},\n",
      "                {'dp_label': 'NP_AJT',\n",
      "                 'josa': {'josa': '에', 'josa+pos': '에/JKB', 'pos': 'JKB'},\n",
      "                 'span': {'begin': 4, 'end': 7},\n",
      "                 'text': '2016년 10월 13일에',\n",
      "                 'tokens': [4, 5, 6]},\n",
      "                {'dp_label': 'NP_AJT',\n",
      "                 'josa': {'josa': '으로', 'josa+pos': '으로/JKB', 'pos': 'JKB'},\n",
      "                 'span': {'begin': 7, 'end': 8},\n",
      "                 'text': '<e2>유엔_사무총장</e2>으로',\n",
      "                 'tokens': [7]}],\n",
      "  'predicate': {'id': 8, 'text': '선출되.v'}}]\n"
     ]
    }
   ],
   "source": [
    "text = '포르투칼의 총리를 지낸 <e1>안토니우_구테흐스</e1>는, 2016년 10월 13일에 <e2>유엔_사무총장</e2>으로 선출되었다.'\n",
    "nlp = etri.getETRI(text)\n",
    "conll_2009 = etri.getETRI_CoNLL2009(nlp)\n",
    "predicate_argument = etri.phrase_parser(conll_2009, nlp)\n",
    "pprint(predicate_argument)"
   ]
  }
 ],
 "metadata": {
  "kernelspec": {
   "display_name": "Python 3",
   "language": "python",
   "name": "python3"
  },
  "language_info": {
   "codemirror_mode": {
    "name": "ipython",
    "version": 3
   },
   "file_extension": ".py",
   "mimetype": "text/x-python",
   "name": "python",
   "nbconvert_exporter": "python",
   "pygments_lexer": "ipython3",
   "version": "3.6.5"
  }
 },
 "nbformat": 4,
 "nbformat_minor": 2
}
