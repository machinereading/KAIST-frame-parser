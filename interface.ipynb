{
 "cells": [
  {
   "cell_type": "code",
   "execution_count": 1,
   "metadata": {},
   "outputs": [
    {
     "name": "stderr",
     "output_type": "stream",
     "text": [
      "Using TensorFlow backend.\n"
     ]
    },
    {
     "name": "stdout",
     "output_type": "stream",
     "text": [
      "Better speed can be achieved with apex installed from https://www.github.com/nvidia/apex.\n",
      "### Korean FrameNet ###\n",
      "\t# contact: hahmyg@kaist, hahmyg@gmail.com #\n",
      "\n"
     ]
    }
   ],
   "source": [
    "import json\n",
    "import os\n",
    "from pprint import pprint\n",
    "import srl_based_parser"
   ]
  },
  {
   "cell_type": "code",
   "execution_count": 2,
   "metadata": {},
   "outputs": [],
   "source": [
    "try:\n",
    "    config_dir = os.path.dirname( os.path.abspath( __file__ ))\n",
    "except:\n",
    "    config_dir = '.'    \n",
    "config_file = config_dir+'/config.json'\n",
    "with open(config_file, 'r') as f:\n",
    "    config = json.load(f)"
   ]
  },
  {
   "cell_type": "code",
   "execution_count": 3,
   "metadata": {},
   "outputs": [],
   "source": [
    "class parser():\n",
    "    def __init__(self):\n",
    "        if config['parser'] == 'srl-based':\n",
    "            self.frame_parser = srl_based_parser.SRLbasedParser\n",
    "        self.fn_parser = self.frame_parser()\n",
    "            \n",
    "    def parsing(self, text, stringuri='stringurl:Null'):\n",
    "        parsed = self.fn_parser.parser(text, stringuri)\n",
    "        return parsed"
   ]
  },
  {
   "cell_type": "code",
   "execution_count": 4,
   "metadata": {},
   "outputs": [
    {
     "name": "stdout",
     "output_type": "stream",
     "text": [
      "### SETTINGS\n",
      "\t# FrameNet: kfn1.1\n",
      "\t# PARSER: srl-based\n",
      "\t# MODEL_PATH: /disk_4/resource/models/kfn/\n",
      "\t# (your frameid model should be: /disk_4/resource/models/kfn/frameid-1.1.pt\n",
      "\t# (your argid model should be: /disk_4/resource/models/kfn/arg_classifier-1.1.pt\n"
     ]
    }
   ],
   "source": [
    "parser = parser()"
   ]
  },
  {
   "cell_type": "code",
   "execution_count": null,
   "metadata": {},
   "outputs": [],
   "source": [
    "text = '헤밍웨이는 1899년 7월 21일 미국 일리노이에서 태어났고, 62세에 자살로 사망했다.'\n",
    "parsed = parser.parsing(text)\n",
    "pprint(parsed['graph'])"
   ]
  }
 ],
 "metadata": {
  "kernelspec": {
   "display_name": "Python 3",
   "language": "python",
   "name": "python3"
  },
  "language_info": {
   "codemirror_mode": {
    "name": "ipython",
    "version": 3
   },
   "file_extension": ".py",
   "mimetype": "text/x-python",
   "name": "python",
   "nbconvert_exporter": "python",
   "pygments_lexer": "ipython3",
   "version": "3.6.5"
  }
 },
 "nbformat": 4,
 "nbformat_minor": 2
}
