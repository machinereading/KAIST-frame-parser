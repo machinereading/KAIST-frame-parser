{
 "cells": [
  {
   "cell_type": "code",
   "execution_count": 1,
   "metadata": {},
   "outputs": [
    {
     "name": "stderr",
     "output_type": "stream",
     "text": [
      "Using TensorFlow backend.\n"
     ]
    },
    {
     "name": "stdout",
     "output_type": "stream",
     "text": [
      "Better speed can be achieved with apex installed from https://www.github.com/nvidia/apex.\n",
      "### Korean FrameNet ###\n",
      "\t# contact: hahmyg@kaist, hahmyg@gmail.com #\n",
      "\n"
     ]
    }
   ],
   "source": [
    "import json\n",
    "import os\n",
    "from pprint import pprint\n",
    "import srl_based_parser"
   ]
  },
  {
   "cell_type": "code",
   "execution_count": 2,
   "metadata": {},
   "outputs": [],
   "source": [
    "try:\n",
    "    config_dir = os.path.dirname( os.path.abspath( __file__ ))\n",
    "except:\n",
    "    config_dir = '.'    \n",
    "config_file = config_dir+'/config.json'\n",
    "with open(config_file, 'r') as f:\n",
    "    config = json.load(f)"
   ]
  },
  {
   "cell_type": "code",
   "execution_count": 3,
   "metadata": {},
   "outputs": [],
   "source": [
    "class parser():\n",
    "    def __init__(self):\n",
    "        if config['parser'] == 'srl-based':\n",
    "            self.frame_parser = srl_based_parser.SRLbasedParser\n",
    "        self.fn_parser = self.frame_parser()\n",
    "            \n",
    "    def parsing(self, text, stringuri='stringurl:Null'):\n",
    "        parsed = self.fn_parser.parser(text, stringuri)\n",
    "        return parsed"
   ]
  },
  {
   "cell_type": "code",
   "execution_count": 4,
   "metadata": {},
   "outputs": [
    {
     "name": "stdout",
     "output_type": "stream",
     "text": [
      "### SETTINGS\n",
      "\t# FrameNet: kfn1.1\n",
      "\t# PARSER: srl-based\n",
      "\t# MODEL_PATH: /disk_4/resource/models/kfn/\n",
      "\t# (your frameid model should be: /disk_4/resource/models/kfn/frameid-1.1.pt\n",
      "\t# (your argid model should be: /disk_4/resource/models/kfn/arg_classifier-1.1.pt\n"
     ]
    }
   ],
   "source": [
    "parser = parser()"
   ]
  },
  {
   "cell_type": "code",
   "execution_count": 5,
   "metadata": {},
   "outputs": [
    {
     "name": "stderr",
     "output_type": "stream",
     "text": [
      "/disk_4/FRDF/KAIST_frame_parser/srl_based_parser.py:101: UserWarning: Implicit dimension choice for softmax has been deprecated. Change the call to include dim=X as an argument.\n",
      "  b_pred_logits = sm(b_pred_logits).view(1, -1)\n",
      "/disk_4/FRDF/KAIST_frame_parser/srl_based_parser.py:159: UserWarning: Implicit dimension choice for softmax has been deprecated. Change the call to include dim=X as an argument.\n",
      "  b_pred_logits = sm(b_pred_logits).view(1, -1)\n"
     ]
    },
    {
     "name": "stdout",
     "output_type": "stream",
     "text": [
      "[('stringurl:Null',\n",
      "  'nif:isString',\n",
      "  '헤밍웨이는 1899년 7월 21일 미국 일리노이에서 태어났고, 62세에 자살로 사망했다.'),\n",
      " ('frame:Origin', 'frdf:provinence', 'stringurl:Null'),\n",
      " ('frame:Origin', 'frdf:lu', '미국.n'),\n",
      " ('frame:Origin', 'frdf:score', '1.0'),\n",
      " ('frame:Being_born', 'frdf:provinence', 'stringurl:Null'),\n",
      " ('frame:Being_born', 'frdf:lu', '태어나다.v'),\n",
      " ('frame:Being_born', 'frdf:score', '1.0'),\n",
      " ('frame:Being_born', 'arg:Child', '헤밍웨이는'),\n",
      " ('frame:Being_born', 'arg:Time', '1899년 7월 21일'),\n",
      " ('frame:Being_born', 'arg:Place', '미국 일리노이에서'),\n",
      " ('frame:Killing', 'frdf:provinence', 'stringurl:Null'),\n",
      " ('frame:Killing', 'frdf:lu', '자살.n'),\n",
      " ('frame:Killing', 'frdf:score', '1.0'),\n",
      " ('frame:Death', 'frdf:provinence', 'stringurl:Null'),\n",
      " ('frame:Death', 'frdf:lu', '사망.n'),\n",
      " ('frame:Death', 'frdf:score', '1.0'),\n",
      " ('frame:Death', 'arg:Protagonist', '헤밍웨이는'),\n",
      " ('frame:Death', 'arg:Time', '62세에'),\n",
      " ('frame:Death', 'arg:Manner', '자살로')]\n"
     ]
    }
   ],
   "source": [
    "text = '헤밍웨이는 1899년 7월 21일 미국 일리노이에서 태어났고, 62세에 자살로 사망했다.'\n",
    "parsed = parser.parsing(text)\n",
    "pprint(parsed['graph'])"
   ]
  },
  {
   "cell_type": "code",
   "execution_count": 6,
   "metadata": {},
   "outputs": [
    {
     "name": "stdout",
     "output_type": "stream",
     "text": [
      "{'conll': [[['헤밍웨이는',\n",
      "             '1899년',\n",
      "             '7월',\n",
      "             '21일',\n",
      "             '미국',\n",
      "             '일리노이에서',\n",
      "             '태어났고,',\n",
      "             '62세에',\n",
      "             '자살로',\n",
      "             '사망했다.'],\n",
      "            ['_', '_', '_', '_', '미국.n', '_', '_', '_', '_', '_'],\n",
      "            ['_', '_', '_', '_', 'Origin', '_', '_', '_', '_', '_'],\n",
      "            ['O', 'O', 'O', 'O', 'O', 'O', 'O', 'O', 'O', 'O']],\n",
      "           [['헤밍웨이는',\n",
      "             '1899년',\n",
      "             '7월',\n",
      "             '21일',\n",
      "             '미국',\n",
      "             '일리노이에서',\n",
      "             '태어났고,',\n",
      "             '62세에',\n",
      "             '자살로',\n",
      "             '사망했다.'],\n",
      "            ['_', '_', '_', '_', '_', '_', '태어나다.v', '_', '_', '_'],\n",
      "            ['_', '_', '_', '_', '_', '_', 'Being_born', '_', '_', '_'],\n",
      "            ['B-Child',\n",
      "             'B-Time',\n",
      "             'I-Time',\n",
      "             'I-Time',\n",
      "             'B-Place',\n",
      "             'I-Place',\n",
      "             'O',\n",
      "             'O',\n",
      "             'O',\n",
      "             'O']],\n",
      "           [['헤밍웨이는',\n",
      "             '1899년',\n",
      "             '7월',\n",
      "             '21일',\n",
      "             '미국',\n",
      "             '일리노이에서',\n",
      "             '태어났고,',\n",
      "             '62세에',\n",
      "             '자살로',\n",
      "             '사망했다.'],\n",
      "            ['_', '_', '_', '_', '_', '_', '_', '_', '자살.n', '_'],\n",
      "            ['_', '_', '_', '_', '_', '_', '_', '_', 'Killing', '_'],\n",
      "            ['O', 'O', 'O', 'O', 'O', 'O', 'O', 'O', 'O', 'O']],\n",
      "           [['헤밍웨이는',\n",
      "             '1899년',\n",
      "             '7월',\n",
      "             '21일',\n",
      "             '미국',\n",
      "             '일리노이에서',\n",
      "             '태어났고,',\n",
      "             '62세에',\n",
      "             '자살로',\n",
      "             '사망했다.'],\n",
      "            ['_', '_', '_', '_', '_', '_', '_', '_', '_', '사망.n'],\n",
      "            ['_', '_', '_', '_', '_', '_', '_', '_', '_', 'Death'],\n",
      "            ['B-Protagonist',\n",
      "             'O',\n",
      "             'O',\n",
      "             'O',\n",
      "             'O',\n",
      "             'O',\n",
      "             'O',\n",
      "             'B-Time',\n",
      "             'B-Manner',\n",
      "             'O']]],\n",
      " 'graph': [('stringurl:Null',\n",
      "            'nif:isString',\n",
      "            '헤밍웨이는 1899년 7월 21일 미국 일리노이에서 태어났고, 62세에 자살로 사망했다.'),\n",
      "           ('frame:Origin', 'frdf:provinence', 'stringurl:Null'),\n",
      "           ('frame:Origin', 'frdf:lu', '미국.n'),\n",
      "           ('frame:Origin', 'frdf:score', '1.0'),\n",
      "           ('frame:Being_born', 'frdf:provinence', 'stringurl:Null'),\n",
      "           ('frame:Being_born', 'frdf:lu', '태어나다.v'),\n",
      "           ('frame:Being_born', 'frdf:score', '1.0'),\n",
      "           ('frame:Being_born', 'arg:Child', '헤밍웨이는'),\n",
      "           ('frame:Being_born', 'arg:Time', '1899년 7월 21일'),\n",
      "           ('frame:Being_born', 'arg:Place', '미국 일리노이에서'),\n",
      "           ('frame:Killing', 'frdf:provinence', 'stringurl:Null'),\n",
      "           ('frame:Killing', 'frdf:lu', '자살.n'),\n",
      "           ('frame:Killing', 'frdf:score', '1.0'),\n",
      "           ('frame:Death', 'frdf:provinence', 'stringurl:Null'),\n",
      "           ('frame:Death', 'frdf:lu', '사망.n'),\n",
      "           ('frame:Death', 'frdf:score', '1.0'),\n",
      "           ('frame:Death', 'arg:Protagonist', '헤밍웨이는'),\n",
      "           ('frame:Death', 'arg:Time', '62세에'),\n",
      "           ('frame:Death', 'arg:Manner', '자살로')],\n",
      " 'textae': [{'denotations': [{'id': 1,\n",
      "                              'obj': '미국.n',\n",
      "                              'role': 'TARGET',\n",
      "                              'span': {'begin': 19, 'end': 21},\n",
      "                              'text': '미국',\n",
      "                              'token_span': [4]}],\n",
      "             'frame': '미국.n',\n",
      "             'lu': '미국.n',\n",
      "             'relations': [],\n",
      "             'text': '헤밍웨이는 1899년 7월 21일 미국 일리노이에서 태어났고, 62세에 자살로 사망했다.'},\n",
      "            {'denotations': [{'id': 1,\n",
      "                              'obj': '태어나다.v',\n",
      "                              'role': 'TARGET',\n",
      "                              'span': {'begin': 29, 'end': 34},\n",
      "                              'text': '태어났고,',\n",
      "                              'token_span': [6]},\n",
      "                             {'id': 2,\n",
      "                              'obj': 'Child',\n",
      "                              'role': 'ARGUMENT',\n",
      "                              'span': {'begin': 0, 'end': 5},\n",
      "                              'text': '헤밍웨이는',\n",
      "                              'token_span': [0]},\n",
      "                             {'id': 3,\n",
      "                              'obj': 'Time',\n",
      "                              'role': 'ARGUMENT',\n",
      "                              'span': {'begin': 6, 'end': 11},\n",
      "                              'text': '1899년',\n",
      "                              'token_span': [1]},\n",
      "                             {'id': 4,\n",
      "                              'obj': 'Place',\n",
      "                              'role': 'ARGUMENT',\n",
      "                              'span': {'begin': 19, 'end': 21},\n",
      "                              'text': '미국',\n",
      "                              'token_span': [4]}],\n",
      "             'frame': '태어나다.v',\n",
      "             'lu': '태어나다.v',\n",
      "             'relations': [{'obj': 2, 'pred': 'arg', 'subj': 1},\n",
      "                           {'obj': 3, 'pred': 'arg', 'subj': 1},\n",
      "                           {'obj': 4, 'pred': 'arg', 'subj': 1}],\n",
      "             'text': '헤밍웨이는 1899년 7월 21일 미국 일리노이에서 태어났고, 62세에 자살로 사망했다.'},\n",
      "            {'denotations': [{'id': 1,\n",
      "                              'obj': '자살.n',\n",
      "                              'role': 'TARGET',\n",
      "                              'span': {'begin': 40, 'end': 43},\n",
      "                              'text': '자살로',\n",
      "                              'token_span': [8]}],\n",
      "             'frame': '자살.n',\n",
      "             'lu': '자살.n',\n",
      "             'relations': [],\n",
      "             'text': '헤밍웨이는 1899년 7월 21일 미국 일리노이에서 태어났고, 62세에 자살로 사망했다.'},\n",
      "            {'denotations': [{'id': 1,\n",
      "                              'obj': '사망.n',\n",
      "                              'role': 'TARGET',\n",
      "                              'span': {'begin': 44, 'end': 49},\n",
      "                              'text': '사망했다.',\n",
      "                              'token_span': [9]},\n",
      "                             {'id': 2,\n",
      "                              'obj': 'Protagonist',\n",
      "                              'role': 'ARGUMENT',\n",
      "                              'span': {'begin': 0, 'end': 5},\n",
      "                              'text': '헤밍웨이는',\n",
      "                              'token_span': [0]},\n",
      "                             {'id': 3,\n",
      "                              'obj': 'Time',\n",
      "                              'role': 'ARGUMENT',\n",
      "                              'span': {'begin': 35, 'end': 39},\n",
      "                              'text': '62세에',\n",
      "                              'token_span': [7]},\n",
      "                             {'id': 4,\n",
      "                              'obj': 'Manner',\n",
      "                              'role': 'ARGUMENT',\n",
      "                              'span': {'begin': 40, 'end': 43},\n",
      "                              'text': '자살로',\n",
      "                              'token_span': [8]}],\n",
      "             'frame': '사망.n',\n",
      "             'lu': '사망.n',\n",
      "             'relations': [{'obj': 2, 'pred': 'arg', 'subj': 1},\n",
      "                           {'obj': 3, 'pred': 'arg', 'subj': 1},\n",
      "                           {'obj': 4, 'pred': 'arg', 'subj': 1}],\n",
      "             'text': '헤밍웨이는 1899년 7월 21일 미국 일리노이에서 태어났고, 62세에 자살로 사망했다.'}]}\n"
     ]
    }
   ],
   "source": [
    "pprint(parsed)"
   ]
  }
 ],
 "metadata": {
  "kernelspec": {
   "display_name": "Python 3",
   "language": "python",
   "name": "python3"
  },
  "language_info": {
   "codemirror_mode": {
    "name": "ipython",
    "version": 3
   },
   "file_extension": ".py",
   "mimetype": "text/x-python",
   "name": "python",
   "nbconvert_exporter": "python",
   "pygments_lexer": "ipython3",
   "version": "3.6.5"
  }
 },
 "nbformat": 4,
 "nbformat_minor": 2
}
