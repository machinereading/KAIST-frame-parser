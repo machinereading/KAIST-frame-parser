{
 "cells": [
  {
   "cell_type": "code",
   "execution_count": 5,
   "metadata": {},
   "outputs": [],
   "source": [
    "from src import etri\n",
    "from pprint import pprint"
   ]
  },
  {
   "cell_type": "code",
   "execution_count": 8,
   "metadata": {},
   "outputs": [],
   "source": [
    "text = '헤밍웨이는 1899년 7월 21일 미국 일리노이에서 태어났고, 1961년 7월 2일 아이다호 주에서 사망했다.'"
   ]
  },
  {
   "cell_type": "code",
   "execution_count": 9,
   "metadata": {},
   "outputs": [
    {
     "name": "stdout",
     "output_type": "stream",
     "text": [
      "[{'arguments': [{'dp_label': 'NP_SBJ',\n",
      "                 'josa': {'josa': '는', 'josa+pos': '는/JX', 'pos': 'JX'},\n",
      "                 'span': {'begin': 0, 'end': 1},\n",
      "                 'text': '헤밍웨이는',\n",
      "                 'tokens': [0]},\n",
      "                {'dp_label': 'NP_AJT',\n",
      "                 'josa': {'josa': {}, 'josa+pos': {}, 'pos': {}},\n",
      "                 'span': {'begin': 1, 'end': 4},\n",
      "                 'text': '1899년 7월 21일',\n",
      "                 'tokens': [1, 2, 3]},\n",
      "                {'dp_label': 'NP_AJT',\n",
      "                 'josa': {'josa': '에서', 'josa+pos': '에서/JKB', 'pos': 'JKB'},\n",
      "                 'span': {'begin': 4, 'end': 6},\n",
      "                 'text': '미국 일리노이에서',\n",
      "                 'tokens': [4, 5]}],\n",
      "  'predicate': {'id': 6, 'text': '태어나.v'}},\n",
      " {'arguments': [{'dp_label': 'NP_SBJ',\n",
      "                 'josa': {'josa': '는', 'josa+pos': '는/JX', 'pos': 'JX'},\n",
      "                 'span': {'begin': 0, 'end': 1},\n",
      "                 'text': '헤밍웨이는',\n",
      "                 'tokens': [0]},\n",
      "                {'dp_label': 'NP_AJT',\n",
      "                 'josa': {'josa': {}, 'josa+pos': {}, 'pos': {}},\n",
      "                 'span': {'begin': 7, 'end': 10},\n",
      "                 'text': '1961년 7월 2일',\n",
      "                 'tokens': [7, 8, 9]},\n",
      "                {'dp_label': 'NP_AJT',\n",
      "                 'josa': {'josa': '에서', 'josa+pos': '에서/JKB', 'pos': 'JKB'},\n",
      "                 'span': {'begin': 10, 'end': 12},\n",
      "                 'text': '아이다호 주에서',\n",
      "                 'tokens': [10, 11]}],\n",
      "  'predicate': {'id': 12, 'text': '사망하.v'}}]\n"
     ]
    }
   ],
   "source": [
    "nlp = etri.getETRI(text)    \n",
    "conll_2009 = etri.getETRI_CoNLL2009(nlp)\n",
    "predicate_argument = etri.phrase_parser(conll_2009, nlp)\n",
    "pprint(predicate_argument)"
   ]
  }
 ],
 "metadata": {
  "kernelspec": {
   "display_name": "Python 3",
   "language": "python",
   "name": "python3"
  },
  "language_info": {
   "codemirror_mode": {
    "name": "ipython",
    "version": 3
   },
   "file_extension": ".py",
   "mimetype": "text/x-python",
   "name": "python",
   "nbconvert_exporter": "python",
   "pygments_lexer": "ipython3",
   "version": "3.6.5"
  }
 },
 "nbformat": 4,
 "nbformat_minor": 2
}
