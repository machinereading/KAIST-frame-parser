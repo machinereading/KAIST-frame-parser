{
 "cells": [
  {
   "cell_type": "code",
   "execution_count": 78,
   "metadata": {},
   "outputs": [],
   "source": [
    "import json\n",
    "from src import dataio\n",
    "from src import etri\n",
    "from collections import Counter"
   ]
  },
  {
   "cell_type": "markdown",
   "metadata": {},
   "source": [
    "# Basic settings"
   ]
  },
  {
   "cell_type": "code",
   "execution_count": 2,
   "metadata": {},
   "outputs": [],
   "source": [
    "language = 'ko'\n",
    "version = 1.0"
   ]
  },
  {
   "cell_type": "code",
   "execution_count": 3,
   "metadata": {},
   "outputs": [
    {
     "name": "stdout",
     "output_type": "stream",
     "text": [
      "### Korean FrameNet ###\n",
      "\t# contact: hahmyg@kaist, hahmyg@gmail.com #\n",
      "\n"
     ]
    }
   ],
   "source": [
    "from koreanframenet import koreanframenet\n",
    "kfn = koreanframenet.interface(version)"
   ]
  },
  {
   "cell_type": "code",
   "execution_count": 105,
   "metadata": {},
   "outputs": [],
   "source": [
    "from konlpy.tag import Kkma\n",
    "kkma = Kkma()\n",
    "def targetize(word):\n",
    "    result = []\n",
    "    morps = kkma.pos(word)\n",
    "    v = False\n",
    "    for m,p in morps:\n",
    "        if p == 'XSV':\n",
    "            v = True\n",
    "    if v:\n",
    "        for i in range(len(morps)):\n",
    "            m,p = morps[i]\n",
    "            if p == 'VA' or p == 'VV':\n",
    "                if m[0] == word[0] and len(m) > 1:\n",
    "                    result.append(m)\n",
    "            if i > 0 and p == 'XSV':\n",
    "                r = morps[i-1][0]+m\n",
    "                if r[0] == word[0]:\n",
    "                    result.append(r)\n",
    "#     else:\n",
    "    pos_list = []\n",
    "    for m,p in morps:\n",
    "        if p.startswith('J'):\n",
    "            pos_list.append(m)\n",
    "    for m, p in morps:\n",
    "        if p == 'NNG':\n",
    "            if len(pos_list) == 0:\n",
    "                if m == word:\n",
    "                    result.append(m)\n",
    "            else:\n",
    "                if m[0] == word[0]:\n",
    "                    result.append(m)\n",
    "    return result\n",
    "\n",
    "with open('./data/targetdic.json','r') as f:\n",
    "    targetdic = json.load(f)\n",
    "def get_lu_by_token(token):\n",
    "    target_candis = targetize(token)\n",
    "    lu_candis = []\n",
    "    for target_candi in target_candis:\n",
    "        for lu in targetdic:\n",
    "            if target_candi in targetdic[lu]:\n",
    "                lu_candis.append(lu)\n",
    "    common = Counter(lu_candis).most_common()\n",
    "    if len(common) > 0:\n",
    "        result = common[0][0]\n",
    "    else:\n",
    "        result = False\n",
    "    return result"
   ]
  },
  {
   "cell_type": "code",
   "execution_count": 106,
   "metadata": {},
   "outputs": [
    {
     "name": "stdout",
     "output_type": "stream",
     "text": [
      "[]\n",
      "[]\n",
      "['파이']\n",
      "['이혼하', '이혼']\n",
      "['뒤']\n",
      "['마사']\n",
      "[]\n",
      "['재혼하', '재혼']\n"
     ]
    }
   ],
   "source": [
    "# input: text or json\n",
    "def baseline(data):\n",
    "    result = []\n",
    "    idxs, tokens = data[0], data[1]\n",
    "    for idx in range(len(tokens)):\n",
    "        token = tokens[idx]\n",
    "        lu = get_lu_by_token(token)\n",
    "        lus = ['_' for i in range(len(tokens))]\n",
    "        if lu:\n",
    "            lus[idx] = lu\n",
    "            instance = []            \n",
    "#             instance.append(idxs)\n",
    "            instance.append(tokens)\n",
    "            instance.append(lus)\n",
    "            result.append(instance)\n",
    "    return result\n",
    "        \n",
    "text = '애플은 스티브 잡스와 스티브 워즈니악과 론 웨인이 1976년에 설립한 컴퓨터 회사이다.'\n",
    "text = '헤밍웨이는 1961년 아이다호 주에서 62세의 나이에 자살했다.'\n",
    "text = '헤밍웨이는 풀린 파이퍼와 이혼한 뒤 마사 겔혼과 재혼하였다'\n",
    "tl = text.split(' ')\n",
    "for t in tl:\n",
    "    target = targetize(t)\n",
    "    print(target)\n",
    "# input_data = dataio.preprocessor(text)\n",
    "# baseline(input_data)"
   ]
  }
 ],
 "metadata": {
  "kernelspec": {
   "display_name": "Python 3",
   "language": "python",
   "name": "python3"
  },
  "language_info": {
   "codemirror_mode": {
    "name": "ipython",
    "version": 3
   },
   "file_extension": ".py",
   "mimetype": "text/x-python",
   "name": "python",
   "nbconvert_exporter": "python",
   "pygments_lexer": "ipython3",
   "version": "3.6.5"
  }
 },
 "nbformat": 4,
 "nbformat_minor": 2
}
