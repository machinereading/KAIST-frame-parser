{
 "cells": [
  {
   "cell_type": "code",
   "execution_count": 7,
   "metadata": {},
   "outputs": [],
   "source": [
    "import json\n",
    "import os\n",
    "from pprint import pprint\n",
    "from KAIST_frame_parser import srl_based_parser"
   ]
  },
  {
   "cell_type": "code",
   "execution_count": 2,
   "metadata": {},
   "outputs": [],
   "source": [
    "try:\n",
    "    config_dir = os.path.dirname( os.path.abspath( __file__ ))\n",
    "except:\n",
    "    config_dir = '.'    \n",
    "config_file = config_dir+'/config.json'\n",
    "with open(config_file, 'r') as f:\n",
    "    config = json.load(f)"
   ]
  },
  {
   "cell_type": "code",
   "execution_count": 3,
   "metadata": {},
   "outputs": [],
   "source": [
    "class parser():\n",
    "    def __init__(self):\n",
    "        if config['parser'] == 'srl-based':\n",
    "            self.frame_parser = srl_based_parser.SRLbasedParser\n",
    "        self.fn_parser = self.frame_parser()\n",
    "            \n",
    "    def parsing(self, text, stringuri='stringurl:Null'):\n",
    "        parsed = self.fn_parser.parser(text, stringuri)\n",
    "        return parsed"
   ]
  },
  {
   "cell_type": "code",
   "execution_count": 4,
   "metadata": {},
   "outputs": [
    {
     "name": "stdout",
     "output_type": "stream",
     "text": [
      "### SETTINGS\n",
      "\t# FrameNet: kfn1.1\n",
      "\t# PARSER: srl-based\n",
      "\t# MODEL_PATH: /disk_4/resource/models/kfn/\n",
      "\t# (your frameid model should be: /disk_4/resource/models/kfn/frameid-1.1.pt\n",
      "\t# (your argid model should be: /disk_4/resource/models/kfn/arg_classifier-1.1.pt\n"
     ]
    }
   ],
   "source": [
    "parser = parser()"
   ]
  },
  {
   "cell_type": "code",
   "execution_count": 5,
   "metadata": {},
   "outputs": [
    {
     "name": "stderr",
     "output_type": "stream",
     "text": [
      "/disk_4/FRDF/KAIST_frame_parser/srl_based_parser.py:104: UserWarning: Implicit dimension choice for softmax has been deprecated. Change the call to include dim=X as an argument.\n",
      "  b_pred_logits = sm(b_pred_logits).view(1, -1)\n",
      "/disk_4/FRDF/KAIST_frame_parser/srl_based_parser.py:162: UserWarning: Implicit dimension choice for softmax has been deprecated. Change the call to include dim=X as an argument.\n",
      "  b_pred_logits = sm(b_pred_logits).view(1, -1)\n"
     ]
    },
    {
     "name": "stdout",
     "output_type": "stream",
     "text": [
      "[('stringurl:Null',\n",
      "  'nif:isString',\n",
      "  '헤밍웨이는 1899년 7월 21일 미국 일리노이에서 태어났고, 62세에 자살로 사망했다.'),\n",
      " ('frame:Origin', 'frdf:provinence', 'stringurl:Null'),\n",
      " ('frame:Origin', 'frdf:lu', '미국.n'),\n",
      " ('frame:Origin', 'frdf:score', '1.0'),\n",
      " ('frame:Being_born', 'frdf:provinence', 'stringurl:Null'),\n",
      " ('frame:Being_born', 'frdf:lu', '태어나다.v'),\n",
      " ('frame:Being_born', 'frdf:score', '1.0'),\n",
      " ('frame:Being_born', 'arg:Child', '헤밍웨이는'),\n",
      " ('frame:Being_born', 'arg:Time', '1899년 7월 21일'),\n",
      " ('frame:Being_born', 'arg:Place', '미국 일리노이에서'),\n",
      " ('frame:Killing', 'frdf:provinence', 'stringurl:Null'),\n",
      " ('frame:Killing', 'frdf:lu', '자살.n'),\n",
      " ('frame:Killing', 'frdf:score', '1.0'),\n",
      " ('frame:Death', 'frdf:provinence', 'stringurl:Null'),\n",
      " ('frame:Death', 'frdf:lu', '사망.n'),\n",
      " ('frame:Death', 'frdf:score', '1.0'),\n",
      " ('frame:Death', 'arg:Protagonist', '헤밍웨이는'),\n",
      " ('frame:Death', 'arg:Time', '62세에'),\n",
      " ('frame:Death', 'arg:Containing_event', '자살로')]\n"
     ]
    }
   ],
   "source": [
    "text = '헤밍웨이는 1899년 7월 21일 미국 일리노이에서 태어났고, 62세에 자살로 사망했다.'\n",
    "parsed = parser.parsing(text)\n",
    "pprint(parsed['graph'])"
   ]
  }
 ],
 "metadata": {
  "kernelspec": {
   "display_name": "Python 3",
   "language": "python",
   "name": "python3"
  },
  "language_info": {
   "codemirror_mode": {
    "name": "ipython",
    "version": 3
   },
   "file_extension": ".py",
   "mimetype": "text/x-python",
   "name": "python",
   "nbconvert_exporter": "python",
   "pygments_lexer": "ipython3",
   "version": "3.6.5"
  }
 },
 "nbformat": 4,
 "nbformat_minor": 2
}
