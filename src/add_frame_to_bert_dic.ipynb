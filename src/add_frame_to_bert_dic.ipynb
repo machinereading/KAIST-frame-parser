{
 "cells": [
  {
   "cell_type": "code",
   "execution_count": 1,
   "metadata": {},
   "outputs": [],
   "source": [
    "import json"
   ]
  },
  {
   "cell_type": "code",
   "execution_count": 2,
   "metadata": {},
   "outputs": [],
   "source": [
    "with open('../koreanframenet/resource/info/fn1.7_frame2idx.json','r') as f:\n",
    "    frame2idx = json.load(f)"
   ]
  },
  {
   "cell_type": "code",
   "execution_count": 3,
   "metadata": {},
   "outputs": [],
   "source": [
    "with open('../data/bert-multilingual-cased-dict','r') as f:\n",
    "    bert_dic = f.readlines()"
   ]
  },
  {
   "cell_type": "code",
   "execution_count": 4,
   "metadata": {},
   "outputs": [],
   "source": [
    "# for frame in frame2idx:\n",
    "#     line = '['+frame+']'+'\\n'\n",
    "#     bert_dic.append(line)\n",
    "add_tgt = '<tgt>\\n'\n",
    "bert_dic[1] = (add_tgt)\n",
    "add_tgt = '</tgt>\\n'\n",
    "bert_dic[2] = (add_tgt)\n",
    "\n",
    "with open('../data/bert-multilingual-cased-dict-add-frames','w') as f:\n",
    "    for d in bert_dic:\n",
    "        f.write(d)"
   ]
  }
 ],
 "metadata": {
  "kernelspec": {
   "display_name": "Python 3",
   "language": "python",
   "name": "python3"
  },
  "language_info": {
   "codemirror_mode": {
    "name": "ipython",
    "version": 3
   },
   "file_extension": ".py",
   "mimetype": "text/x-python",
   "name": "python",
   "nbconvert_exporter": "python",
   "pygments_lexer": "ipython3",
   "version": "3.6.5"
  }
 },
 "nbformat": 4,
 "nbformat_minor": 2
}
