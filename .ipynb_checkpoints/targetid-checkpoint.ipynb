{
 "cells": [
  {
   "cell_type": "code",
   "execution_count": 1,
   "metadata": {},
   "outputs": [
    {
     "name": "stderr",
     "output_type": "stream",
     "text": [
      "Using TensorFlow backend.\n"
     ]
    },
    {
     "name": "stdout",
     "output_type": "stream",
     "text": [
      "Better speed can be achieved with apex installed from https://www.github.com/nvidia/apex.\n"
     ]
    }
   ],
   "source": [
    "import json\n",
    "from src import dataio\n",
    "from src import etri\n",
    "from collections import Counter"
   ]
  },
  {
   "cell_type": "markdown",
   "metadata": {},
   "source": [
    "# Basic settings"
   ]
  },
  {
   "cell_type": "code",
   "execution_count": 2,
   "metadata": {},
   "outputs": [],
   "source": [
    "language = 'ko'\n",
    "version = 1.1"
   ]
  },
  {
   "cell_type": "code",
   "execution_count": 3,
   "metadata": {},
   "outputs": [
    {
     "name": "stdout",
     "output_type": "stream",
     "text": [
      "### Korean FrameNet ###\n",
      "\t# contact: hahmyg@kaist, hahmyg@gmail.com #\n",
      "\n"
     ]
    }
   ],
   "source": [
    "from koreanframenet import koreanframenet\n",
    "kfn = koreanframenet.interface(version)"
   ]
  },
  {
   "cell_type": "code",
   "execution_count": 46,
   "metadata": {},
   "outputs": [],
   "source": [
    "from konlpy.tag import Kkma\n",
    "kkma = Kkma()\n",
    "def targetize(word):\n",
    "    result = []\n",
    "    morps = kkma.pos(word)\n",
    "    v = False\n",
    "    for m,p in morps:\n",
    "        if p == 'XSV' or p == 'VV':\n",
    "            v = True    \n",
    "    \n",
    "    if v:\n",
    "        for i in range(len(morps)):\n",
    "            m,p = morps[i]\n",
    "            if p == 'VA' or 'VV':\n",
    "                if m[0] == word[0] and len(m) > 1:\n",
    "                    result.append(m)\n",
    "            if i > 0 and p == 'XSV':\n",
    "                if m[0] == word[0] and len(m) > 1:\n",
    "                    result.append(m)\n",
    "                r = morps[i-1][0]+m\n",
    "                if r[0] == word[0]:\n",
    "                    result.append(r)\n",
    "    else:\n",
    "        pos_list = []\n",
    "        for m,p in morps:\n",
    "            if p.startswith('J'):\n",
    "                pos_list.append(m)\n",
    "            elif p == 'VCP' or p == 'EFN':\n",
    "                pos_list.append(m)\n",
    "        for m, p in morps:\n",
    "            if p == 'NNG' or p == 'NNP':\n",
    "                if len(pos_list) == 0:\n",
    "                    if m == word:\n",
    "                        result.append(m)\n",
    "                else:\n",
    "                    if m[0] == word[0]:\n",
    "                        result.append(m)\n",
    "    return result\n",
    "\n",
    "with open('./data/targetdic-'+str(version)+'.json','r') as f:\n",
    "    targetdic = json.load(f)\n",
    "def get_lu_by_token(token):\n",
    "    target_candis = targetize(token)\n",
    "    lu_candis = []\n",
    "    for target_candi in target_candis:\n",
    "        for lu in targetdic:\n",
    "            if target_candi in targetdic[lu]:\n",
    "                lu_candis.append(lu)\n",
    "    common = Counter(lu_candis).most_common()\n",
    "    if len(common) > 0:\n",
    "        result = common[0][0]\n",
    "    else:\n",
    "        result = False\n",
    "    return result"
   ]
  },
  {
   "cell_type": "code",
   "execution_count": 47,
   "metadata": {},
   "outputs": [
    {
     "name": "stdout",
     "output_type": "stream",
     "text": [
      "pos: [('헤밍웨이', 'UN'), ('는', 'JX')]\n",
      "targets: []\n",
      "pos: [('미국', 'NNP'), ('에서', 'JKM')]\n",
      "targets: ['미국']\n",
      "pos: [('태어나', 'VV'), ('었', 'EPT'), ('다', 'EFN'), ('.', 'SF')]\n",
      "targets: ['태어나']\n",
      "result\n",
      "[[['헤밍웨이는', '미국에서', '태어났다.'], ['_', '미국.n', '_']], [['헤밍웨이는', '미국에서', '태어났다.'], ['_', '_', '태어나다.v']]]\n"
     ]
    }
   ],
   "source": [
    "# input: text or json\n",
    "def baseline(data):\n",
    "    result = []\n",
    "    idxs, tokens = data[0], data[1]\n",
    "    for idx in range(len(tokens)):\n",
    "        token = tokens[idx]\n",
    "        lu = get_lu_by_token(token)\n",
    "        lus = ['_' for i in range(len(tokens))]\n",
    "        if lu:\n",
    "            lus[idx] = lu\n",
    "            instance = []            \n",
    "#             instance.append(idxs)\n",
    "            instance.append(tokens)\n",
    "            instance.append(lus)\n",
    "            result.append(instance)\n",
    "    return result\n",
    "        \n",
    "text = '애플은 스티브 잡스와 스티브 워즈니악과 론 웨인이 1976년에 설립한 컴퓨터 회사이다.'\n",
    "text = '헤밍웨이는 1961년 아이다호 주에서 62세의 나이에 자살했다.'\n",
    "text = '헤밍웨이는 풀린 파이퍼와 이혼한 뒤 마사 겔혼과 재혼하였다'\n",
    "text = '애플은 스티브 잡스와 스티브 워즈니악과 론 웨인이 1976년에 설립한 회사이다.'\n",
    "text = '1854년 노벨 문학상을 수상하였다'\n",
    "text = '잡스는 미국에서 태어났다.'\n",
    "text = '헤밍웨이는 태어났고 마사 겔혼과 이혼하였다.'\n",
    "text = '헤밍웨이는 미국에서 태어났다.'\n",
    "\n",
    "\n",
    "tl = text.split(' ')\n",
    "for t in tl:\n",
    "    target = targetize(t)\n",
    "    morps = kkma.pos(t)\n",
    "    print('pos:',morps)\n",
    "    print('targets:',target)\n",
    "input_data = dataio.preprocessor(text)\n",
    "d = baseline(input_data)\n",
    "print('result')\n",
    "print(d)"
   ]
  }
 ],
 "metadata": {
  "kernelspec": {
   "display_name": "Python 3",
   "language": "python",
   "name": "python3"
  },
  "language_info": {
   "codemirror_mode": {
    "name": "ipython",
    "version": 3
   },
   "file_extension": ".py",
   "mimetype": "text/x-python",
   "name": "python",
   "nbconvert_exporter": "python",
   "pygments_lexer": "ipython3",
   "version": "3.6.5"
  }
 },
 "nbformat": 4,
 "nbformat_minor": 2
}
