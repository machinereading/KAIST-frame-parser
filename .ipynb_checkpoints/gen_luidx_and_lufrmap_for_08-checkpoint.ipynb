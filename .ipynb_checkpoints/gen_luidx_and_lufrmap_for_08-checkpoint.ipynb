{
 "cells": [
  {
   "cell_type": "code",
   "execution_count": 1,
   "metadata": {},
   "outputs": [],
   "source": [
    "# this code would be the out of the folder 'koreanframenet'"
   ]
  },
  {
   "cell_type": "code",
   "execution_count": 17,
   "metadata": {},
   "outputs": [],
   "source": [
    "import json\n",
    "from koreanframenet import koreanframenet\n",
    "from pprint import pprint"
   ]
  },
  {
   "cell_type": "code",
   "execution_count": 3,
   "metadata": {},
   "outputs": [
    {
     "name": "stdout",
     "output_type": "stream",
     "text": [
      "\n",
      "### loading Korean FrameNet 0.8 data...\n",
      "\t# of instances in training data: 12431\n",
      "\t# of instances in dev data: 624\n",
      "\t# of instances in test data: 4382\n"
     ]
    }
   ],
   "source": [
    "version = 0.8\n",
    "kfn = koreanframenet.interface(version=version)\n",
    "trn, dev, tst = kfn.load_data()"
   ]
  },
  {
   "cell_type": "code",
   "execution_count": 10,
   "metadata": {},
   "outputs": [
    {
     "name": "stdout",
     "output_type": "stream",
     "text": [
      "3892\n",
      "3892\n"
     ]
    }
   ],
   "source": [
    "info_dir = './koreanframenet/resource/info/'\n",
    "with open(info_dir+'fn1.7_frame2idx.json', 'r') as f:\n",
    "    frame2idx = json.load(f)\n",
    "    \n",
    "all_data = trn + dev + tst\n",
    "\n",
    "lus = []\n",
    "for i in all_data:\n",
    "    for l in i[1]:\n",
    "        if l != '_':\n",
    "            lus.append(l)\n",
    "lus = list(set(lus))\n",
    "lus.sort()\n",
    "print(len(lus))\n",
    "lu2idx = {}\n",
    "for i in lus:\n",
    "    lu2idx[i] = len(lu2idx)\n",
    "print(len(lu2idx))"
   ]
  },
  {
   "cell_type": "code",
   "execution_count": 19,
   "metadata": {},
   "outputs": [
    {
     "name": "stdout",
     "output_type": "stream",
     "text": [
      "이익.n\n",
      "Earnings_and_losses\n",
      "0\n"
     ]
    }
   ],
   "source": [
    "lufrmap = {}\n",
    "\n",
    "for i in all_data:\n",
    "    for litem in i[1]:\n",
    "        if litem != '_':\n",
    "            lu = litem\n",
    "    for fitem in i[2]:\n",
    "        if fitem != '_':\n",
    "            frame = fitem\n",
    "    luidx = str(lu2idx[lu])\n",
    "    fidx = frame2idx[frame]\n",
    "    \n",
    "    if luidx not in lufrmap:\n",
    "        candis = []\n",
    "    else:\n",
    "        candis = lufrmap[luidx]\n",
    "    candis.append(fidx)\n",
    "    candis = list(set(candis))\n",
    "    candis.sort()\n",
    "    \n",
    "    lufrmap[luidx] = candis\n",
    "    \n",
    "print(len(lufrmap))"
   ]
  },
  {
   "cell_type": "code",
   "execution_count": null,
   "metadata": {},
   "outputs": [],
   "source": [
    "info_dir = './koreanframenet/resource/info/'\n",
    "with open(info_dir+'kfn0.8_lu2idx.json','r') as f:\n",
    "    json.dump(lu2idx, f, ensure_ascii=False, indent=4)\n",
    "\n",
    "with open(info_dir+'kfn0.8_lufrmap.json','r') as f:\n",
    "    json.dump(lufrmap, f, ensure_ascii=False, indent=4)"
   ]
  }
 ],
 "metadata": {
  "kernelspec": {
   "display_name": "Python 3",
   "language": "python",
   "name": "python3"
  },
  "language_info": {
   "codemirror_mode": {
    "name": "ipython",
    "version": 3
   },
   "file_extension": ".py",
   "mimetype": "text/x-python",
   "name": "python",
   "nbconvert_exporter": "python",
   "pygments_lexer": "ipython3",
   "version": "3.6.5"
  }
 },
 "nbformat": 4,
 "nbformat_minor": 2
}
